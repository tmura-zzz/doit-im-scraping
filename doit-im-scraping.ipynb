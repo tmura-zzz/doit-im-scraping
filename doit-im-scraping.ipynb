{
 "cells": [
  {
   "cell_type": "code",
   "execution_count": null,
   "id": "0919080d",
   "metadata": {},
   "outputs": [],
   "source": [
    "#!pip install requests\n",
    "#!pip install beautifulsoup4\n",
    "#!pip uninstall -y requests-html\n",
    "#!pip install git+https://github.com/psf/requests-html.git\n",
    "#!pip install lxml_html_clean "
   ]
  },
  {
   "cell_type": "code",
   "execution_count": null,
   "id": "dc26805d",
   "metadata": {},
   "outputs": [],
   "source": [
    "import datetime\n",
    "from bs4 import BeautifulSoup\n",
    "from requests_html import AsyncHTMLSession\n",
    "import re"
   ]
  },
  {
   "cell_type": "code",
   "execution_count": null,
   "id": "eeead4e3",
   "metadata": {},
   "outputs": [],
   "source": [
    "import os\n",
    "\n",
    "account = {\n",
    "  'username': os.getenv('DOIT_IM_USERNAME'),\n",
    "  'password': os.getenv('DOIT_IM_PASSWORD')\n",
    "}\n",
    "\n",
    "output_file = os.getenv('DOIT_IM_EXPORT_FILE') or \"doit-im-export.json\""
   ]
  },
  {
   "cell_type": "code",
   "execution_count": null,
   "id": "e821ce25",
   "metadata": {},
   "outputs": [],
   "source": [
    "# from google.colab import userdata\n",
    "\n",
    "# account = {\n",
    "#   'username': userdata.get('DOIT_IM_USERNAME'),\n",
    "#   'password': userdata.get('DOIT_IM_PASSWORD'),\n",
    "# }\n",
    "#\n",
    "# output_file = userdata.get('DOIT_IM_EXPORT_FILE') or \"doit-im-export.json\""
   ]
  },
  {
   "cell_type": "code",
   "execution_count": null,
   "id": "001a1b22",
   "metadata": {},
   "outputs": [],
   "source": [
    "sleep_default = 2\n",
    "sleep_task = 0.5\n",
    "\n",
    "url_home = \"https://i.doit.im/home/\"\n",
    "url_login = 'https://i.doit.im/signin'"
   ]
  },
  {
   "cell_type": "code",
   "execution_count": null,
   "id": "4b456f3b",
   "metadata": {},
   "outputs": [],
   "source": [
    "asession = AsyncHTMLSession()\n",
    "res = None"
   ]
  },
  {
   "cell_type": "code",
   "execution_count": null,
   "id": "d406123c",
   "metadata": {},
   "outputs": [],
   "source": [
    "async def login():\n",
    "  global asession, res\n",
    "  res = await asession.get(url_login)\n",
    "  res = await asession.post(url=url_login, data=account, cookies=res.cookies)\n",
    "  assert(res.status_code == 200)\n",
    "\n",
    "def output_html(text):\n",
    "  with open(\"response.html\", \"w\") as f:\n",
    "    print(text, file=f)\n",
    "\n",
    "async def get_html(url, sleep=sleep_default):\n",
    "  global asession, res\n",
    "  res = await asession.get(url, cookies=res.cookies)\n",
    "  assert(res.status_code == 200)\n",
    "  await res.html.arender(cookies=res.cookies, send_cookies_session=True, sleep=sleep)\n",
    "  #output_html(res.html.html)  # for debug\n",
    "  return res.html.html"
   ]
  },
  {
   "cell_type": "code",
   "execution_count": null,
   "id": "a16e5854",
   "metadata": {},
   "outputs": [],
   "source": [
    "get_group_title = lambda g: g.find('span', class_='group-title').get_text()\n",
    "get_group_size = lambda g: len(g.find_all('a', class_='link-title'))\n",
    "get_tasks_func = {\n",
    "  'id': lambda g: list(map(lambda e: e['ng-href'], g.find_all('a', class_='link-title'))),\n",
    "  'title': lambda g: list(map(lambda e: e.get_text(), g.find_all('a', class_=\"link-title\"))),\n",
    "  'context': lambda g: list(map(lambda e: e.get_text()[1:], g.find_all('a', class_=\"context\"))),\n",
    "  'project': lambda g: list(map(lambda e: e.get_text()[1:], g.find_all('a', class_=\"project\"))),\n",
    "  #'startat': lambda g: list(map(lambda e: e.get_text(), g.find_all('div', class_=\"start-at\"))),  # available only in #/schedule\n",
    "  'priority': lambda g: list(map(lambda e: e.parent.parent.select_one('div.pri').attrs['class'][-1][-1], g.find_all('a', class_='link-title'))),\n",
    "  'notes': lambda g: list(map(lambda e: e['html-title'], g.find_all('div', class_=\"comment\"))),\n",
    "  'repeater': lambda g: list(map(lambda e: True if e.parent.select(\"div.repeat:not(.ng-hide)\") else False, g.find_all('a', class_='link-title'))),\n",
    "}\n",
    "keys = get_tasks_func.keys()\n",
    "\n",
    "def get_group_contents(g):\n",
    "  all_items_data = {key: get_tasks_func[key](g) for key in keys}\n",
    "  tasks = [None] * get_group_size(g)\n",
    "  for i in range(0, len(tasks)):\n",
    "    tasks[i] = dict(zip(keys, [all_items_data[key][i] for key in keys]))\n",
    "  return {\n",
    "    'group-title': get_group_title(g),\n",
    "    'group-size': get_group_size(g),\n",
    "    'tasks': tasks\n",
    "  }"
   ]
  },
  {
   "cell_type": "code",
   "execution_count": null,
   "id": "69c86ca2",
   "metadata": {},
   "outputs": [],
   "source": [
    "await login()\n",
    "html = await get_html(url_home)\n",
    "soup = BeautifulSoup(html, 'html.parser')"
   ]
  },
  {
   "cell_type": "code",
   "execution_count": null,
   "id": "e4e98a8a",
   "metadata": {},
   "outputs": [],
   "source": [
    "eles_category_id = soup.find_all('a', class_='side-item', attrs={'ng-href': re.compile('^#/')})\n",
    "category_ids = list(map(lambda ele: ele['ng-href'], eles_category_id))\n",
    "eles_category_name = soup.find_all('span', class_='tit ng-binding')\n",
    "category_names = list(map(lambda ele: ele.get_text(), eles_category_name))\n",
    "categories = dict(zip(category_ids, category_names))\n",
    "categories"
   ]
  },
  {
   "cell_type": "code",
   "execution_count": null,
   "id": "71f0188a",
   "metadata": {},
   "outputs": [],
   "source": [
    "eles_project_id = soup.find_all('a', class_='side-item', attrs={'href': re.compile('^#/project/[^(all)]')})\n",
    "project_ids = list(map(lambda ele: ele['href'], eles_project_id))\n",
    "eles_project_name = soup.find_all('span', attrs={'ng-bind-html': 'project.name'})\n",
    "project_names = list(map(lambda ele: ele.get_text(), eles_project_name))\n",
    "projects = dict(zip(project_ids, project_names))\n",
    "projects"
   ]
  },
  {
   "cell_type": "code",
   "execution_count": null,
   "id": "247acf68",
   "metadata": {},
   "outputs": [],
   "source": [
    "eles_context_id = soup.find_all('a', class_='side-item', attrs={'href': re.compile('^#/context/[^(all)]')})\n",
    "context_ids = list(map(lambda ele: ele['href'], eles_context_id))\n",
    "eles_context_name = soup.find_all('span', attrs={'ng-bind-html': 'context.name'})\n",
    "context_names = list(map(lambda ele: ele.get_text(), eles_context_name))\n",
    "contexts = dict(zip(context_ids, context_names))\n",
    "contexts"
   ]
  },
  {
   "cell_type": "code",
   "execution_count": null,
   "id": "762164ca",
   "metadata": {},
   "outputs": [],
   "source": [
    "inbox = {'#/inbox': '収拾箱'}\n",
    "inbox"
   ]
  },
  {
   "cell_type": "code",
   "execution_count": null,
   "id": "018be066",
   "metadata": {},
   "outputs": [],
   "source": [
    "others = {}\n",
    "#others = { '#/completed': '完了', '#/trash': 'ゴミ箱' }   # include if you want\n",
    "others"
   ]
  },
  {
   "cell_type": "code",
   "execution_count": null,
   "id": "fb011de4",
   "metadata": {},
   "outputs": [],
   "source": [
    "all_view_groups = inbox | categories | projects | contexts | others\n",
    "all_view_groups"
   ]
  },
  {
   "cell_type": "code",
   "execution_count": null,
   "id": "f28c8d55",
   "metadata": {},
   "outputs": [],
   "source": [
    "target_views_extracting_tasks = inbox | categories\n",
    "target_views_extracting_tasks"
   ]
  },
  {
   "cell_type": "code",
   "execution_count": null,
   "id": "b809c7cf",
   "metadata": {},
   "outputs": [],
   "source": [
    "now = datetime.datetime.now()\n",
    "\n",
    "output = {}\n",
    "output['unixtime'] = int(datetime.datetime.timestamp(now))\n",
    "output['localtime'] = f'{now}'\n",
    "output['views'] = {}\n",
    "\n",
    "for (view_id, view_name) in all_view_groups.items():\n",
    "  print(f'processing {view_id}: {view_name}')\n",
    "  html = await get_html(url_home + view_id)\n",
    "  soup = BeautifulSoup(html, 'html.parser')\n",
    "  eles_group = soup.find_all('div', class_='group')\n",
    "  if view_id in target_views_extracting_tasks:\n",
    "    contents = list(map(lambda g: get_group_contents(g), eles_group))\n",
    "    output['views'][view_id] = {'name': view_name, 'contents': contents}\n",
    "  else: # get only names of context and projects\n",
    "    output['views'][view_id] = {'name': view_name }"
   ]
  },
  {
   "cell_type": "code",
   "execution_count": null,
   "id": "bafa6c2c",
   "metadata": {},
   "outputs": [],
   "source": [
    "for contents in output['views']['#/scheduled']['contents']:\n",
    "  for task in contents['tasks']:\n",
    "    print(f\"processing {task['id']}: {task['title']}\")\n",
    "    if task['repeater'] == True:\n",
    "      html = await get_html(url_home + task['id'], sleep=sleep_task)\n",
    "      soup = BeautifulSoup(html, 'html.parser')\n",
    "      repeat = soup.select_one('div.item.repeat').get_text().strip()\n",
    "      assert(repeat and repeat != '')  # try set sleep longer of get_html()\n",
    "      task['repeat'] = repeat"
   ]
  },
  {
   "cell_type": "code",
   "execution_count": null,
   "id": "ff95375e",
   "metadata": {},
   "outputs": [],
   "source": [
    "for (view_id, view_name) in target_views_extracting_tasks.items():\n",
    "  print(f'processing {view_id}: {view_name}')\n",
    "  for contents in output['views'][view_id]['contents']:\n",
    "    for task in contents['tasks']:\n",
    "      print(f\"  processing {task['id']}: {task['title']}\")\n",
    "      html = await get_html(url_home + task['id'], sleep=sleep_task)\n",
    "      soup = BeautifulSoup(html, 'html.parser')\n",
    "      s = soup.select_one('div.item.time').get_text()\n",
    "      task['time'] = s\n",
    "      r = soup.select_one('div.item.reminder').get_text()\n",
    "      m1 = re.findall(r'(\\d+ [分時日]).*前', r)\n",
    "      m2 = re.findall(r'\\d+\\-\\d+\\-\\d+ \\d+:\\d+', r)\n",
    "      #display(f\"'{s}','{r}','{m1}','{m2}'\")\n",
    "      if (m1 or m2):\n",
    "        task['reminder'] = []\n",
    "        task['reminder'] += [ m1[0] ] if m1 else []\n",
    "        task['reminder'] += [ m2[0] ] if m2 else []"
   ]
  },
  {
   "cell_type": "code",
   "execution_count": null,
   "id": "97549471",
   "metadata": {},
   "outputs": [],
   "source": [
    "import json\n",
    "\n",
    "output_json = json.dumps(output, ensure_ascii=False)\n",
    "with open(output_file, \"w\", encoding='utf-8') as file:\n",
    "  print(output_json, file=file)"
   ]
  },
  {
   "cell_type": "markdown",
   "id": "dc6af981",
   "metadata": {},
   "source": [
    "# SandBox"
   ]
  },
  {
   "cell_type": "code",
   "execution_count": null,
   "id": "857a9d06",
   "metadata": {},
   "outputs": [],
   "source": [
    "output"
   ]
  },
  {
   "cell_type": "code",
   "execution_count": null,
   "id": "efbcf193",
   "metadata": {},
   "outputs": [],
   "source": [
    "output_json"
   ]
  }
 ],
 "metadata": {
  "kernelspec": {
   "display_name": ".venv",
   "language": "python",
   "name": "python3"
  },
  "language_info": {
   "codemirror_mode": {
    "name": "ipython",
    "version": 3
   },
   "file_extension": ".py",
   "mimetype": "text/x-python",
   "name": "python",
   "nbconvert_exporter": "python",
   "pygments_lexer": "ipython3",
   "version": "3.10.12"
  }
 },
 "nbformat": 4,
 "nbformat_minor": 5
}
